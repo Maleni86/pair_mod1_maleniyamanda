{
 "cells": [
  {
   "cell_type": "markdown",
   "metadata": {},
   "source": [
    "#ejercicio 1"
   ]
  },
  {
   "cell_type": "code",
   "execution_count": 61,
   "metadata": {},
   "outputs": [
    {
     "name": "stdout",
     "output_type": "stream",
     "text": [
      "-4 es negativo\n"
     ]
    }
   ],
   "source": [
    "num = -4\n",
    "if num > 0:\n",
    "    print (num, \"es positivo\")\n",
    "elif num == 0:\n",
    "    print (num, \"es igual a cero\" )\n",
    "else: \n",
    "    print (num, \"es negativo\")\n",
    "\n"
   ]
  },
  {
   "cell_type": "markdown",
   "metadata": {},
   "source": [
    "#ejercicio 2"
   ]
  },
  {
   "cell_type": "code",
   "execution_count": 62,
   "metadata": {},
   "outputs": [
    {
     "name": "stdout",
     "output_type": "stream",
     "text": [
      "9 es impar\n"
     ]
    }
   ],
   "source": [
    "num = 9\n",
    "if num % 2 == 0:\n",
    "    print (num, \"es par\")\n",
    "    if num > 10:\n",
    "        print (num, \"mayor a 10\")\n",
    "    else: \n",
    "        print (num, \"menor que 10\")\n",
    "else:\n",
    "    print (num, \"es impar\")\n",
    "\n"
   ]
  },
  {
   "cell_type": "code",
   "execution_count": 36,
   "metadata": {},
   "outputs": [
    {
     "name": "stdout",
     "output_type": "stream",
     "text": [
      "9 es impar\n",
      "9 menor que 10\n"
     ]
    }
   ],
   "source": [
    "num = 9\n",
    "if num % 2 == 0:\n",
    "    print (num, \"es par\")\n",
    "else:\n",
    "    print (num, \"es impar\")\n",
    "if num > 10:\n",
    "        print (num, \"mayor a 10\")\n",
    "else: \n",
    "        print (num, \"menor que 10\")"
   ]
  },
  {
   "cell_type": "markdown",
   "metadata": {},
   "source": [
    "# ejercicio 3"
   ]
  },
  {
   "cell_type": "code",
   "execution_count": 39,
   "metadata": {},
   "outputs": [
    {
     "name": "stdout",
     "output_type": "stream",
     "text": [
      "50 suspendio\n"
     ]
    }
   ],
   "source": [
    "calificacion = 50\n",
    "if calificacion >= 60:\n",
    "    print (calificacion, \"aprobado\")\n",
    "else:\n",
    "    print (calificacion, \"suspendio\")\n"
   ]
  },
  {
   "cell_type": "markdown",
   "metadata": {},
   "source": [
    "# ejercicio 4"
   ]
  },
  {
   "cell_type": "code",
   "execution_count": 41,
   "metadata": {},
   "outputs": [
    {
     "name": "stdout",
     "output_type": "stream",
     "text": [
      "12 es el número máximo\n"
     ]
    }
   ],
   "source": [
    "num1 = 12\n",
    "num2= 10\n",
    "if num1 >= num2:\n",
    "    print (num1, \"es el número máximo\")\n",
    "else:\n",
    "    print (num2, \"es el número máximo\")\n"
   ]
  },
  {
   "cell_type": "markdown",
   "metadata": {},
   "source": [
    "# ejercicio 5"
   ]
  },
  {
   "cell_type": "code",
   "execution_count": 44,
   "metadata": {},
   "outputs": [
    {
     "name": "stdout",
     "output_type": "stream",
     "text": [
      "e es vocal\n"
     ]
    }
   ],
   "source": [
    "letra = \"e\"\n",
    "vocal = \"a\",\"b\", \"c\", \"d\", \"e\"\n",
    "if letra in vocal:\n",
    "    print (letra, \"es vocal\")\n",
    "else:\n",
    "    print (letra, \"es consonante\")\n",
    "\n"
   ]
  },
  {
   "cell_type": "markdown",
   "metadata": {},
   "source": [
    "# ejercicio 6"
   ]
  },
  {
   "cell_type": "code",
   "execution_count": 51,
   "metadata": {},
   "outputs": [
    {
     "name": "stdout",
     "output_type": "stream",
     "text": [
      "80 no tiene descuento\n"
     ]
    }
   ],
   "source": [
    "compra = 80\n",
    "if compra >= 100:\n",
    "    print (compra, \"tiene descuento del 10%\")\n",
    "else:\n",
    "    print (compra, \"no tiene descuento\")\n"
   ]
  },
  {
   "cell_type": "markdown",
   "metadata": {},
   "source": [
    "#ejercicio 7"
   ]
  },
  {
   "cell_type": "code",
   "execution_count": 64,
   "metadata": {},
   "outputs": [
    {
     "name": "stdout",
     "output_type": "stream",
     "text": [
      "2000 es bisiesto\n"
     ]
    }
   ],
   "source": [
    "Año = 2000\n",
    "if Año % 4 ==0:\n",
    "    print (Año, \"es bisiesto\")\n",
    "elif Año % 100 ==0:\n",
    "    print (Año, \"no es bisiesto\")\n",
    "elif Año % 400 ==0:\n",
    "    print (Año, \"es bisiesto\")\n",
    "else:\n",
    "    print (Año, \"no es bisiesto\")\n",
    "\n"
   ]
  },
  {
   "cell_type": "markdown",
   "metadata": {},
   "source": [
    "#ejercicio8"
   ]
  },
  {
   "cell_type": "code",
   "execution_count": null,
   "metadata": {},
   "outputs": [],
   "source": []
  }
 ],
 "metadata": {
  "kernelspec": {
   "display_name": "base",
   "language": "python",
   "name": "python3"
  },
  "language_info": {
   "codemirror_mode": {
    "name": "ipython",
    "version": 3
   },
   "file_extension": ".py",
   "mimetype": "text/x-python",
   "name": "python",
   "nbconvert_exporter": "python",
   "pygments_lexer": "ipython3",
   "version": "3.12.7"
  }
 },
 "nbformat": 4,
 "nbformat_minor": 2
}
