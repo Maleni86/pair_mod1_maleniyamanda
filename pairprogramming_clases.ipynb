{
 "cells": [
  {
   "cell_type": "code",
   "execution_count": null,
   "metadata": {},
   "outputs": [],
   "source": [
    "# 1 \n",
    "import datetime \n",
    "\n",
    "class Empleados:\n",
    "    \n",
    "\n",
    "    def __init__(self, nombre, apellidos, edad, posicion,año, vacaciones, herramientas):\n",
    "        self.nombre = nombre\n",
    "        self.apellidos = apellidos\n",
    "        self.edad = edad\n",
    "        self.posicion = posicion\n",
    "        self.año = año \n",
    "        self.vacaciones = vacaciones\n",
    "        self.herramientas = herramientas\n",
    "        \n",
    "\n",
    "\n",
    "    def descripcion (self):\n",
    "        print (f\"el empleado {self.nombre} que ocupa el cargo {self.posicion} desde el año {self.año} le quedan {self.vacaciones} días de vacaciones\")\n",
    "\n",
    "    def cambiando_posicion (self): # Método 2,  método cambiar posicion\n",
    "\n",
    "        for h in self.herramientas:\n",
    "          \n",
    "         if \"python\" in self.herramientas: \n",
    "          print (f\"{self.nombre} actualmente usa {self.herramientas}. Enhorabuena por usar Python!!!\".lower()) \n",
    "          break\n",
    "\n",
    "        else: \n",
    "           print (\"deja de usar excel e instala pyhton\".lower()) \n",
    "\n",
    "    def calcular_antiguedad (self):\n",
    "       año = datetime.datetime.now().year\n",
    "       año + 1   \n",
    "\n",
    "     \n",
    "\n",
    "          \n",
    "\n",
    "        \n",
    "\n"
   ]
  },
  {
   "cell_type": "code",
   "execution_count": 24,
   "metadata": {},
   "outputs": [
    {
     "data": {
      "text/plain": [
       "2025"
      ]
     },
     "execution_count": 24,
     "metadata": {},
     "output_type": "execute_result"
    }
   ],
   "source": [
    "año = datetime.datetime.now().year\n",
    "año"
   ]
  },
  {
   "cell_type": "code",
   "execution_count": 25,
   "metadata": {},
   "outputs": [
    {
     "data": {
      "text/plain": [
       "2"
      ]
     },
     "execution_count": 25,
     "metadata": {},
     "output_type": "execute_result"
    }
   ],
   "source": [
    "mes = datetime.datetime.now().month\n",
    "mes \n"
   ]
  },
  {
   "cell_type": "code",
   "execution_count": 12,
   "metadata": {},
   "outputs": [],
   "source": [
    "empleada_1 = Empleados (\"ana\", \"perez\", 40, \"gerente\", 2001, 20, \"sql\")"
   ]
  },
  {
   "cell_type": "code",
   "execution_count": 13,
   "metadata": {},
   "outputs": [
    {
     "name": "stdout",
     "output_type": "stream",
     "text": [
      "el empleado ana que ocupa el cargo gerente desde el año 2001 le quedan 20 días de vacaciones\n"
     ]
    }
   ],
   "source": [
    "empleada_1.descripcion()"
   ]
  },
  {
   "cell_type": "code",
   "execution_count": 5,
   "metadata": {},
   "outputs": [],
   "source": [
    "empleado_2 = Empleados (\"roberto\", \"gomez\", 65, \"vp\", 2020, 15, \"python\")"
   ]
  },
  {
   "cell_type": "code",
   "execution_count": 6,
   "metadata": {},
   "outputs": [
    {
     "name": "stdout",
     "output_type": "stream",
     "text": [
      "el empleado roberto que ocupa el cargo vp desde el año 2020 le quedan 15 días de vacaciones\n"
     ]
    }
   ],
   "source": [
    "empleado_2.descripcion()"
   ]
  },
  {
   "cell_type": "code",
   "execution_count": 14,
   "metadata": {},
   "outputs": [
    {
     "name": "stdout",
     "output_type": "stream",
     "text": [
      "deja de usar excel e instala pyhton\n"
     ]
    }
   ],
   "source": [
    "empleada_1.cambiando_posicion()"
   ]
  },
  {
   "cell_type": "code",
   "execution_count": 8,
   "metadata": {},
   "outputs": [
    {
     "name": "stdout",
     "output_type": "stream",
     "text": [
      "roberto actualmente usa python. enhorabuena por usar python!!!\n"
     ]
    }
   ],
   "source": [
    "empleado_2.cambiando_posicion()\n"
   ]
  },
  {
   "cell_type": "code",
   "execution_count": 9,
   "metadata": {},
   "outputs": [
    {
     "name": "stdout",
     "output_type": "stream",
     "text": [
      "roberto actualmente usa python. enhorabuena por usar python!!!\n"
     ]
    }
   ],
   "source": [
    "empleado_2.cambiando_posicion()\n"
   ]
  },
  {
   "cell_type": "code",
   "execution_count": 15,
   "metadata": {},
   "outputs": [
    {
     "ename": "TypeError",
     "evalue": "'module' object is not callable",
     "output_type": "error",
     "traceback": [
      "\u001b[0;31m---------------------------------------------------------------------------\u001b[0m",
      "\u001b[0;31mTypeError\u001b[0m                                 Traceback (most recent call last)",
      "Cell \u001b[0;32mIn[15], line 1\u001b[0m\n\u001b[0;32m----> 1\u001b[0m \u001b[43mempleada_1\u001b[49m\u001b[38;5;241;43m.\u001b[39;49m\u001b[43mcalcular_antiguedad\u001b[49m\u001b[43m(\u001b[49m\u001b[43m)\u001b[49m\n",
      "Cell \u001b[0;32mIn[10], line 32\u001b[0m, in \u001b[0;36mEmpleados.calcular_antiguedad\u001b[0;34m(self)\u001b[0m\n\u001b[1;32m     29\u001b[0m \u001b[38;5;28;01mdef\u001b[39;00m\u001b[38;5;250m \u001b[39m\u001b[38;5;21mcalcular_antiguedad\u001b[39m (\u001b[38;5;28mself\u001b[39m):  \u001b[38;5;66;03m# Método 3, calcular la antiguedad \u001b[39;00m\n\u001b[1;32m     30\u001b[0m    \u001b[38;5;28;01mimport\u001b[39;00m\u001b[38;5;250m \u001b[39m\u001b[38;5;21;01mdatetime\u001b[39;00m\n\u001b[0;32m---> 32\u001b[0m    \u001b[43mdatetime\u001b[49m\u001b[43m(\u001b[49m\u001b[38;5;28;43mself\u001b[39;49m\u001b[38;5;241;43m.\u001b[39;49m\u001b[43maño\u001b[49m\u001b[43m)\u001b[49m\n",
      "\u001b[0;31mTypeError\u001b[0m: 'module' object is not callable"
     ]
    }
   ],
   "source": [
    "empleada_1.calcular_antiguedad()"
   ]
  }
 ],
 "metadata": {
  "kernelspec": {
   "display_name": "Python 3",
   "language": "python",
   "name": "python3"
  },
  "language_info": {
   "codemirror_mode": {
    "name": "ipython",
    "version": 3
   },
   "file_extension": ".py",
   "mimetype": "text/x-python",
   "name": "python",
   "nbconvert_exporter": "python",
   "pygments_lexer": "ipython3",
   "version": "3.9.6"
  }
 },
 "nbformat": 4,
 "nbformat_minor": 2
}
